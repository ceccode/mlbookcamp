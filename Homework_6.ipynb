{
  "nbformat": 4,
  "nbformat_minor": 0,
  "metadata": {
    "colab": {
      "name": "Homework 6.ipynb",
      "provenance": [],
      "authorship_tag": "ABX9TyM+Ql5pifCoMQm0OOcFRPMA",
      "include_colab_link": true
    },
    "kernelspec": {
      "name": "python3",
      "display_name": "Python 3"
    },
    "language_info": {
      "name": "python"
    }
  },
  "cells": [
    {
      "cell_type": "markdown",
      "metadata": {
        "id": "view-in-github",
        "colab_type": "text"
      },
      "source": [
        "<a href=\"https://colab.research.google.com/github/ceccode/mlbookcamp/blob/main/Homework_6.ipynb\" target=\"_parent\"><img src=\"https://colab.research.google.com/assets/colab-badge.svg\" alt=\"Open In Colab\"/></a>"
      ]
    },
    {
      "cell_type": "markdown",
      "metadata": {
        "id": "K3wn-R-Hhk26"
      },
      "source": [
        "https://github.com/alexeygrigorev/mlbookcamp-code/blob/master/course-zoomcamp/06-trees/homework.md"
      ]
    },
    {
      "cell_type": "code",
      "metadata": {
        "id": "fBvY6iyihjOl"
      },
      "source": [
        "%matplotlib inline\n",
        "\n",
        "import pandas as pd\n",
        "import numpy as np\n",
        "\n",
        "import matplotlib.pyplot as plt\n",
        "import seaborn as sns\n",
        "\n",
        "import warnings\n",
        "warnings.filterwarnings(\"ignore\")\n",
        "\n",
        "import sklearn"
      ],
      "execution_count": 2,
      "outputs": []
    },
    {
      "cell_type": "markdown",
      "metadata": {
        "id": "RuDtAmb5jL6i"
      },
      "source": [
        "Load data"
      ]
    },
    {
      "cell_type": "code",
      "metadata": {
        "id": "0pV2pinPjNJO"
      },
      "source": [
        "usecols = [\n",
        "  'neighbourhood_group', 'room_type', 'latitude', 'longitude',\n",
        "  'price',\n",
        "  'minimum_nights',\n",
        "  'number_of_reviews',\n",
        "  'reviews_per_month',\n",
        "  'calculated_host_listings_count',\n",
        "  'availability_365']\n",
        " \n",
        "data = pd.read_csv('https://raw.githubusercontent.com/alexeygrigorev/datasets/master/AB_NYC_2019.csv', usecols=usecols)"
      ],
      "execution_count": 3,
      "outputs": []
    },
    {
      "cell_type": "code",
      "metadata": {
        "colab": {
          "base_uri": "https://localhost:8080/"
        },
        "id": "t9McmB3hjaT3",
        "outputId": "b11ee687-fbb7-4c78-a79d-ade4c7907038"
      },
      "source": [
        "print(data.shape)"
      ],
      "execution_count": 4,
      "outputs": [
        {
          "output_type": "stream",
          "name": "stdout",
          "text": [
            "(48895, 10)\n"
          ]
        }
      ]
    },
    {
      "cell_type": "code",
      "metadata": {
        "colab": {
          "base_uri": "https://localhost:8080/",
          "height": 359
        },
        "id": "-7NJ3F8-jcpH",
        "outputId": "3d72c497-5004-4c69-f0e2-9fa7f78251c5"
      },
      "source": [
        "data.head(10)"
      ],
      "execution_count": 5,
      "outputs": [
        {
          "output_type": "execute_result",
          "data": {
            "text/html": [
              "<div>\n",
              "<style scoped>\n",
              "    .dataframe tbody tr th:only-of-type {\n",
              "        vertical-align: middle;\n",
              "    }\n",
              "\n",
              "    .dataframe tbody tr th {\n",
              "        vertical-align: top;\n",
              "    }\n",
              "\n",
              "    .dataframe thead th {\n",
              "        text-align: right;\n",
              "    }\n",
              "</style>\n",
              "<table border=\"1\" class=\"dataframe\">\n",
              "  <thead>\n",
              "    <tr style=\"text-align: right;\">\n",
              "      <th></th>\n",
              "      <th>neighbourhood_group</th>\n",
              "      <th>latitude</th>\n",
              "      <th>longitude</th>\n",
              "      <th>room_type</th>\n",
              "      <th>price</th>\n",
              "      <th>minimum_nights</th>\n",
              "      <th>number_of_reviews</th>\n",
              "      <th>reviews_per_month</th>\n",
              "      <th>calculated_host_listings_count</th>\n",
              "      <th>availability_365</th>\n",
              "    </tr>\n",
              "  </thead>\n",
              "  <tbody>\n",
              "    <tr>\n",
              "      <th>0</th>\n",
              "      <td>Brooklyn</td>\n",
              "      <td>40.64749</td>\n",
              "      <td>-73.97237</td>\n",
              "      <td>Private room</td>\n",
              "      <td>149</td>\n",
              "      <td>1</td>\n",
              "      <td>9</td>\n",
              "      <td>0.21</td>\n",
              "      <td>6</td>\n",
              "      <td>365</td>\n",
              "    </tr>\n",
              "    <tr>\n",
              "      <th>1</th>\n",
              "      <td>Manhattan</td>\n",
              "      <td>40.75362</td>\n",
              "      <td>-73.98377</td>\n",
              "      <td>Entire home/apt</td>\n",
              "      <td>225</td>\n",
              "      <td>1</td>\n",
              "      <td>45</td>\n",
              "      <td>0.38</td>\n",
              "      <td>2</td>\n",
              "      <td>355</td>\n",
              "    </tr>\n",
              "    <tr>\n",
              "      <th>2</th>\n",
              "      <td>Manhattan</td>\n",
              "      <td>40.80902</td>\n",
              "      <td>-73.94190</td>\n",
              "      <td>Private room</td>\n",
              "      <td>150</td>\n",
              "      <td>3</td>\n",
              "      <td>0</td>\n",
              "      <td>NaN</td>\n",
              "      <td>1</td>\n",
              "      <td>365</td>\n",
              "    </tr>\n",
              "    <tr>\n",
              "      <th>3</th>\n",
              "      <td>Brooklyn</td>\n",
              "      <td>40.68514</td>\n",
              "      <td>-73.95976</td>\n",
              "      <td>Entire home/apt</td>\n",
              "      <td>89</td>\n",
              "      <td>1</td>\n",
              "      <td>270</td>\n",
              "      <td>4.64</td>\n",
              "      <td>1</td>\n",
              "      <td>194</td>\n",
              "    </tr>\n",
              "    <tr>\n",
              "      <th>4</th>\n",
              "      <td>Manhattan</td>\n",
              "      <td>40.79851</td>\n",
              "      <td>-73.94399</td>\n",
              "      <td>Entire home/apt</td>\n",
              "      <td>80</td>\n",
              "      <td>10</td>\n",
              "      <td>9</td>\n",
              "      <td>0.10</td>\n",
              "      <td>1</td>\n",
              "      <td>0</td>\n",
              "    </tr>\n",
              "    <tr>\n",
              "      <th>5</th>\n",
              "      <td>Manhattan</td>\n",
              "      <td>40.74767</td>\n",
              "      <td>-73.97500</td>\n",
              "      <td>Entire home/apt</td>\n",
              "      <td>200</td>\n",
              "      <td>3</td>\n",
              "      <td>74</td>\n",
              "      <td>0.59</td>\n",
              "      <td>1</td>\n",
              "      <td>129</td>\n",
              "    </tr>\n",
              "    <tr>\n",
              "      <th>6</th>\n",
              "      <td>Brooklyn</td>\n",
              "      <td>40.68688</td>\n",
              "      <td>-73.95596</td>\n",
              "      <td>Private room</td>\n",
              "      <td>60</td>\n",
              "      <td>45</td>\n",
              "      <td>49</td>\n",
              "      <td>0.40</td>\n",
              "      <td>1</td>\n",
              "      <td>0</td>\n",
              "    </tr>\n",
              "    <tr>\n",
              "      <th>7</th>\n",
              "      <td>Manhattan</td>\n",
              "      <td>40.76489</td>\n",
              "      <td>-73.98493</td>\n",
              "      <td>Private room</td>\n",
              "      <td>79</td>\n",
              "      <td>2</td>\n",
              "      <td>430</td>\n",
              "      <td>3.47</td>\n",
              "      <td>1</td>\n",
              "      <td>220</td>\n",
              "    </tr>\n",
              "    <tr>\n",
              "      <th>8</th>\n",
              "      <td>Manhattan</td>\n",
              "      <td>40.80178</td>\n",
              "      <td>-73.96723</td>\n",
              "      <td>Private room</td>\n",
              "      <td>79</td>\n",
              "      <td>2</td>\n",
              "      <td>118</td>\n",
              "      <td>0.99</td>\n",
              "      <td>1</td>\n",
              "      <td>0</td>\n",
              "    </tr>\n",
              "    <tr>\n",
              "      <th>9</th>\n",
              "      <td>Manhattan</td>\n",
              "      <td>40.71344</td>\n",
              "      <td>-73.99037</td>\n",
              "      <td>Entire home/apt</td>\n",
              "      <td>150</td>\n",
              "      <td>1</td>\n",
              "      <td>160</td>\n",
              "      <td>1.33</td>\n",
              "      <td>4</td>\n",
              "      <td>188</td>\n",
              "    </tr>\n",
              "  </tbody>\n",
              "</table>\n",
              "</div>"
            ],
            "text/plain": [
              "  neighbourhood_group  ...  availability_365\n",
              "0            Brooklyn  ...               365\n",
              "1           Manhattan  ...               355\n",
              "2           Manhattan  ...               365\n",
              "3            Brooklyn  ...               194\n",
              "4           Manhattan  ...                 0\n",
              "5           Manhattan  ...               129\n",
              "6            Brooklyn  ...                 0\n",
              "7           Manhattan  ...               220\n",
              "8           Manhattan  ...                 0\n",
              "9           Manhattan  ...               188\n",
              "\n",
              "[10 rows x 10 columns]"
            ]
          },
          "metadata": {},
          "execution_count": 5
        }
      ]
    },
    {
      "cell_type": "code",
      "metadata": {
        "id": "NUspTpNAjhee"
      },
      "source": [
        "df = data.fillna(0)"
      ],
      "execution_count": 6,
      "outputs": []
    },
    {
      "cell_type": "code",
      "metadata": {
        "colab": {
          "base_uri": "https://localhost:8080/"
        },
        "id": "jxesKmdJjjwi",
        "outputId": "aff0b554-1421-4015-c1f3-4e72e583e064"
      },
      "source": [
        "df.info()"
      ],
      "execution_count": 7,
      "outputs": [
        {
          "output_type": "stream",
          "name": "stdout",
          "text": [
            "<class 'pandas.core.frame.DataFrame'>\n",
            "RangeIndex: 48895 entries, 0 to 48894\n",
            "Data columns (total 10 columns):\n",
            " #   Column                          Non-Null Count  Dtype  \n",
            "---  ------                          --------------  -----  \n",
            " 0   neighbourhood_group             48895 non-null  object \n",
            " 1   latitude                        48895 non-null  float64\n",
            " 2   longitude                       48895 non-null  float64\n",
            " 3   room_type                       48895 non-null  object \n",
            " 4   price                           48895 non-null  int64  \n",
            " 5   minimum_nights                  48895 non-null  int64  \n",
            " 6   number_of_reviews               48895 non-null  int64  \n",
            " 7   reviews_per_month               48895 non-null  float64\n",
            " 8   calculated_host_listings_count  48895 non-null  int64  \n",
            " 9   availability_365                48895 non-null  int64  \n",
            "dtypes: float64(3), int64(5), object(2)\n",
            "memory usage: 3.7+ MB\n"
          ]
        }
      ]
    },
    {
      "cell_type": "markdown",
      "metadata": {
        "id": "s3n8G7kak-Vt"
      },
      "source": [
        "train, val, test set will be 60%, 20%, 20% of the dataset respectively\n"
      ]
    },
    {
      "cell_type": "code",
      "metadata": {
        "id": "ovxiFMTGlAoh"
      },
      "source": [
        "from sklearn.model_selection import train_test_split"
      ],
      "execution_count": 8,
      "outputs": []
    },
    {
      "cell_type": "code",
      "metadata": {
        "id": "SSpNK7o_lBdA"
      },
      "source": [
        "df_full_train, df_test = train_test_split(df, test_size=0.2, random_state=1)\n",
        "df_train, df_val = train_test_split(df_full_train, test_size=0.25, random_state=1)"
      ],
      "execution_count": 9,
      "outputs": []
    },
    {
      "cell_type": "code",
      "metadata": {
        "colab": {
          "base_uri": "https://localhost:8080/"
        },
        "id": "KyfJiq4plEpn",
        "outputId": "c54bfe33-96a9-409d-8499-217bc1f11ff7"
      },
      "source": [
        "len(df_train), len(df_val), len(df_test)"
      ],
      "execution_count": 10,
      "outputs": [
        {
          "output_type": "execute_result",
          "data": {
            "text/plain": [
              "(29337, 9779, 9779)"
            ]
          },
          "metadata": {},
          "execution_count": 10
        }
      ]
    },
    {
      "cell_type": "code",
      "metadata": {
        "id": "lldRluX4mmYv"
      },
      "source": [
        "df_train = df_train.reset_index(drop=True)\n",
        "df_val = df_val.reset_index(drop=True)\n",
        "df_test = df_test.reset_index(drop=True)\n",
        "\n",
        "y_train = df_train.price.values\n",
        "y_val = df_val.price.values\n",
        "y_test = df_test.price.values\n",
        "\n",
        "del df_train['price']\n",
        "del df_val['price']\n",
        "del df_test['price']"
      ],
      "execution_count": 11,
      "outputs": []
    },
    {
      "cell_type": "markdown",
      "metadata": {
        "id": "8MN_mQNPnkXB"
      },
      "source": [
        "Decision Tree"
      ]
    },
    {
      "cell_type": "code",
      "metadata": {
        "id": "oxZUw1rynoKi"
      },
      "source": [
        "\n",
        "from sklearn.tree import DecisionTreeRegressor\n",
        "from sklearn.feature_extraction import DictVectorizer\n",
        "from sklearn.metrics import roc_auc_score\n",
        "from sklearn.tree import export_text"
      ],
      "execution_count": 12,
      "outputs": []
    },
    {
      "cell_type": "code",
      "metadata": {
        "id": "SVJZVohfnrpJ"
      },
      "source": [
        "train_dicts = df_train.fillna(0).to_dict(orient='records')"
      ],
      "execution_count": 13,
      "outputs": []
    },
    {
      "cell_type": "code",
      "metadata": {
        "id": "A6_WS6mGnyXo"
      },
      "source": [
        "dv = DictVectorizer(sparse=False)\n",
        "X_train = dv.fit_transform(train_dicts)"
      ],
      "execution_count": 14,
      "outputs": []
    },
    {
      "cell_type": "code",
      "metadata": {
        "colab": {
          "base_uri": "https://localhost:8080/"
        },
        "id": "EtQEy3cmn1w_",
        "outputId": "ac529745-7ee6-41cb-ef6c-33ebb76e0620"
      },
      "source": [
        "dt = DecisionTreeRegressor(max_depth=1)\n",
        "dt.fit(X_train, y_train)"
      ],
      "execution_count": 15,
      "outputs": [
        {
          "output_type": "execute_result",
          "data": {
            "text/plain": [
              "DecisionTreeRegressor(ccp_alpha=0.0, criterion='mse', max_depth=1,\n",
              "                      max_features=None, max_leaf_nodes=None,\n",
              "                      min_impurity_decrease=0.0, min_impurity_split=None,\n",
              "                      min_samples_leaf=1, min_samples_split=2,\n",
              "                      min_weight_fraction_leaf=0.0, presort='deprecated',\n",
              "                      random_state=None, splitter='best')"
            ]
          },
          "metadata": {},
          "execution_count": 15
        }
      ]
    },
    {
      "cell_type": "code",
      "metadata": {
        "id": "jVRheMCzn52s"
      },
      "source": [
        "val_dicts = df_val.fillna(0).to_dict(orient='records')\n",
        "X_val = dv.transform(val_dicts)"
      ],
      "execution_count": 16,
      "outputs": []
    },
    {
      "cell_type": "code",
      "metadata": {
        "colab": {
          "base_uri": "https://localhost:8080/"
        },
        "id": "cFGfPDsAn_7o",
        "outputId": "aecdd856-0b44-4c33-8292-edcf510bde62"
      },
      "source": [
        "print(\"The model training score is\" , dt.score(X_train, y_train))"
      ],
      "execution_count": 17,
      "outputs": [
        {
          "output_type": "stream",
          "name": "stdout",
          "text": [
            "The model training score is 0.06375456851318562\n"
          ]
        }
      ]
    },
    {
      "cell_type": "code",
      "metadata": {
        "colab": {
          "base_uri": "https://localhost:8080/"
        },
        "id": "oLuXUtLz2nx9",
        "outputId": "1ae34c07-f8ab-4866-afef-e301bf287a14"
      },
      "source": [
        "# Then you can print the top 5 features in descending order of importance:\n",
        "\n",
        "for importance, name in sorted(zip(dt.feature_importances_, df_train.columns),reverse=True)[:5]:\n",
        "    print (name, importance)"
      ],
      "execution_count": 18,
      "outputs": [
        {
          "output_type": "stream",
          "name": "stdout",
          "text": [
            "room_type 0.0\n",
            "reviews_per_month 0.0\n",
            "number_of_reviews 0.0\n",
            "neighbourhood_group 0.0\n",
            "minimum_nights 0.0\n"
          ]
        }
      ]
    },
    {
      "cell_type": "code",
      "metadata": {
        "colab": {
          "base_uri": "https://localhost:8080/"
        },
        "id": "byc0RH6z6BWu",
        "outputId": "b71ec242-2728-4f35-f289-06e554f8d2b0"
      },
      "source": [
        "print(export_text(dt, feature_names=dv.get_feature_names()))"
      ],
      "execution_count": 19,
      "outputs": [
        {
          "output_type": "stream",
          "name": "stdout",
          "text": [
            "|--- room_type=Entire home/apt <= 0.50\n",
            "|   |--- value: [89.10]\n",
            "|--- room_type=Entire home/apt >  0.50\n",
            "|   |--- value: [211.78]\n",
            "\n"
          ]
        }
      ]
    },
    {
      "cell_type": "code",
      "metadata": {
        "id": "Y_t0Og-X79eS"
      },
      "source": [
        "from sklearn.ensemble import RandomForestClassifier"
      ],
      "execution_count": 20,
      "outputs": []
    },
    {
      "cell_type": "code",
      "metadata": {
        "colab": {
          "base_uri": "https://localhost:8080/"
        },
        "id": "ycz0haPM7-xa",
        "outputId": "01a02d79-178c-449c-fdec-cfbe9ad609cc"
      },
      "source": [
        "y_train_b = (np.log1p(y_train) >= np.log1p(152)).astype(int)\n",
        "y_val_b = (np.log1p(y_val) >= np.log1p(152)).astype(int)\n",
        "y_test_b = (np.log1p(y_val) >= np.log1p(152)).astype(int)\n",
        "\n",
        "rf = RandomForestClassifier(n_estimators=10, random_state=1, n_jobs=-1)\n",
        "rf.fit(X_train, y_train_b)\n",
        "\n",
        "y_pred = rf.predict_proba(X_val)[:, 1]\n",
        "score_rf = roc_auc_score(y_val_b, y_pred)\n",
        "\n",
        "score_rf\n"
      ],
      "execution_count": 28,
      "outputs": [
        {
          "output_type": "execute_result",
          "data": {
            "text/plain": [
              "0.8756060048516114"
            ]
          },
          "metadata": {},
          "execution_count": 28
        }
      ]
    },
    {
      "cell_type": "code",
      "metadata": {
        "colab": {
          "base_uri": "https://localhost:8080/"
        },
        "id": "lQCvqQa3_Kq0",
        "outputId": "865ad9f9-01d1-477a-ed1c-20e5eee62a7e"
      },
      "source": [
        "# Evaluating the Algorithm\n",
        "\n",
        "from sklearn import metrics\n",
        "print('Mean Absolute Error:', metrics.mean_absolute_error(y_val_b, y_pred))  \n",
        "print('Mean Squared Error:', metrics.mean_squared_error(y_val_b, y_pred))  \n",
        "print('Root Mean Squared Error:', np.sqrt(metrics.mean_squared_error(y_val_b, y_pred)))"
      ],
      "execution_count": 25,
      "outputs": [
        {
          "output_type": "stream",
          "name": "stdout",
          "text": [
            "Mean Absolute Error: 0.23092340730136005\n",
            "Mean Squared Error: 0.12816443399120567\n",
            "Root Mean Squared Error: 0.3580006061324557\n"
          ]
        }
      ]
    },
    {
      "cell_type": "code",
      "metadata": {
        "colab": {
          "base_uri": "https://localhost:8080/"
        },
        "id": "RrC15PcJCxWC",
        "outputId": "4061a437-344a-472e-feff-73e6b53a18d5"
      },
      "source": [
        "scores = []\n",
        "\n",
        "for n in [50, 70, 120]:\n",
        "    rf = RandomForestClassifier(n_estimators=n, random_state=1, n_jobs=-1)\n",
        "    rf.fit(X_train, y_train_b)\n",
        "\n",
        "    y_pred = rf.predict_proba(X_val)[:, 1]\n",
        "    auc = roc_auc_score(y_val_b, y_pred)\n",
        "    \n",
        "    print(n, auc)\n",
        "    print('Root Mean Squared Error:', np.sqrt(metrics.mean_squared_error(y_val_b, y_pred)))\n",
        "    scores.append((n, auc))\n"
      ],
      "execution_count": 39,
      "outputs": [
        {
          "output_type": "stream",
          "name": "stdout",
          "text": [
            "50 0.8923617437617177\n",
            "Root Mean Squared Error: 0.34583059441923164\n",
            "70 0.8933876053276424\n",
            "Root Mean Squared Error: 0.34500406169949305\n",
            "120 0.8958900237896477\n",
            "Root Mean Squared Error: 0.3431236362302584\n"
          ]
        }
      ]
    },
    {
      "cell_type": "code",
      "metadata": {
        "colab": {
          "base_uri": "https://localhost:8080/"
        },
        "id": "Irx-rwc28_rm",
        "outputId": "adf0bceb-ba6c-47e4-cc07-de2ba9367c23"
      },
      "source": [
        "scores_2 = []\n",
        "\n",
        "n_estimators = np.arange(10, 210, 10);\n",
        "\n",
        "for n in n_estimators:\n",
        "\n",
        "  scores_md = []\n",
        "\n",
        "  for md in [10, 15, 20, 25]:\n",
        "    rf = RandomForestClassifier(n_estimators=n, random_state=1, n_jobs=-1, max_depth=md)\n",
        "    rf.fit(X_train, y_train_b)\n",
        "\n",
        "    y_pred = rf.predict_proba(X_val)[:, 1]\n",
        "    auc = roc_auc_score(y_val_b, y_pred)\n",
        "       \n",
        "    scores_md.append((n, auc))\n",
        "\n",
        "  scores_2.append(scores_md)\n",
        "\n",
        "scores_2"
      ],
      "execution_count": 37,
      "outputs": [
        {
          "output_type": "execute_result",
          "data": {
            "text/plain": [
              "[[(10, 0.8925139272448827),\n",
              "  (10, 0.8933937829747421),\n",
              "  (10, 0.8858893807189134),\n",
              "  (10, 0.8764001426267374)],\n",
              " [(20, 0.8959060261285197),\n",
              "  (20, 0.8974466668095713),\n",
              "  (20, 0.8945349110002011),\n",
              "  (20, 0.88700909786306)],\n",
              " [(30, 0.8966332021786602),\n",
              "  (30, 0.8993004819457892),\n",
              "  (30, 0.8969182919088603),\n",
              "  (30, 0.890128040543625)],\n",
              " [(40, 0.8969196812592118),\n",
              "  (40, 0.9007656511309509),\n",
              "  (40, 0.8986388038407994),\n",
              "  (40, 0.89195654965558)],\n",
              " [(50, 0.8971868334839788),\n",
              "  (50, 0.9010386088554017),\n",
              "  (50, 0.8992927908991994),\n",
              "  (50, 0.8933610588119943)],\n",
              " [(60, 0.8973693097667755),\n",
              "  (60, 0.9013126334024435),\n",
              "  (60, 0.8991690394785887),\n",
              "  (60, 0.8943233575993296)],\n",
              " [(70, 0.897716969882457),\n",
              "  (70, 0.901197565421531),\n",
              "  (70, 0.8991141849495249),\n",
              "  (70, 0.8947052800870765)],\n",
              " [(80, 0.897729052268551),\n",
              "  (80, 0.9015791405716898),\n",
              "  (80, 0.8993748618092596),\n",
              "  (80, 0.8949861025269106)],\n",
              " [(90, 0.8977986190254462),\n",
              "  (90, 0.9017838712699416),\n",
              "  (90, 0.8995269956727691),\n",
              "  (90, 0.8952878148416755)],\n",
              " [(100, 0.8979429626030551),\n",
              "  (100, 0.901758714104645),\n",
              "  (100, 0.8996660547570761),\n",
              "  (100, 0.8959971774355212)],\n",
              " [(110, 0.8979774730733977),\n",
              "  (110, 0.902113544260534),\n",
              "  (110, 0.8998483573710794),\n",
              "  (110, 0.8960906360564997)],\n",
              " [(120, 0.8980643818998613),\n",
              "  (120, 0.9022386354118412),\n",
              "  (120, 0.8998001270660135),\n",
              "  (120, 0.8963960450355931)],\n",
              " [(130, 0.8981660525738113),\n",
              "  (130, 0.9022453340653226),\n",
              "  (130, 0.8998901619307683),\n",
              "  (130, 0.8965078381192484)],\n",
              " [(140, 0.8982669789529301),\n",
              "  (140, 0.9023139084291092),\n",
              "  (140, 0.9001281626079773),\n",
              "  (140, 0.8965200693643087)],\n",
              " [(150, 0.8983047147008748),\n",
              "  (150, 0.902501173008654),\n",
              "  (150, 0.9000249537247094),\n",
              "  (150, 0.8967315731455249)],\n",
              " [(160, 0.8982510262337133),\n",
              "  (160, 0.9025307711331104),\n",
              "  (160, 0.9000760371599613),\n",
              "  (160, 0.8969347160148032)],\n",
              " [(170, 0.898205673868662),\n",
              "  (170, 0.9024257759422474),\n",
              "  (170, 0.8999901455364342),\n",
              "  (170, 0.8969087897448478)],\n",
              " [(180, 0.8982120251845553),\n",
              "  (180, 0.9023856336410149),\n",
              "  (180, 0.9001565202410484),\n",
              "  (180, 0.8969785549803645)],\n",
              " [(190, 0.8982370334908856),\n",
              "  (190, 0.9024257759422475),\n",
              "  (190, 0.9002901459730871),\n",
              "  (190, 0.8971822436658525)]]"
            ]
          },
          "metadata": {},
          "execution_count": 37
        }
      ]
    },
    {
      "cell_type": "code",
      "metadata": {
        "colab": {
          "base_uri": "https://localhost:8080/"
        },
        "id": "OPTWdMCWj5Kh",
        "outputId": "9302c6e4-157d-49c5-dd27-ffb0ecf62013"
      },
      "source": [
        "rf_features_importances = rf.feature_importances_\n",
        "rf_features_importances"
      ],
      "execution_count": 45,
      "outputs": [
        {
          "output_type": "execute_result",
          "data": {
            "text/plain": [
              "array([0.09280325, 0.04117641, 0.17403955, 0.19863317, 0.0619368 ,\n",
              "       0.00154819, 0.00956486, 0.02416531, 0.00893816, 0.00066027,\n",
              "       0.07397488, 0.08856502, 0.12760009, 0.0909841 , 0.00540995])"
            ]
          },
          "metadata": {},
          "execution_count": 45
        }
      ]
    },
    {
      "cell_type": "code",
      "metadata": {
        "colab": {
          "base_uri": "https://localhost:8080/"
        },
        "id": "5oOG3GvRklIj",
        "outputId": "d9b43f75-00ea-42bf-c996-ee80da2ea088"
      },
      "source": [
        "# Then you can print the top 5 features in descending order of importance:\n",
        "\n",
        "for importance, name in sorted(zip(rf_features_importances, df_train.columns),reverse=True)[:5]:\n",
        "    print (name, importance)"
      ],
      "execution_count": 46,
      "outputs": [
        {
          "output_type": "stream",
          "name": "stdout",
          "text": [
            "room_type 0.1986331671203065\n",
            "longitude 0.1740395549510062\n",
            "neighbourhood_group 0.09280324941482974\n",
            "minimum_nights 0.06193680066632355\n",
            "latitude 0.0411764078454028\n"
          ]
        }
      ]
    },
    {
      "cell_type": "code",
      "metadata": {
        "colab": {
          "base_uri": "https://localhost:8080/"
        },
        "id": "-MPIL5tmqJ0q",
        "outputId": "81cfe70c-b349-4ab1-f0d3-55823aaf9140"
      },
      "source": [
        "!pip install xgboost"
      ],
      "execution_count": 51,
      "outputs": [
        {
          "output_type": "stream",
          "name": "stdout",
          "text": [
            "Requirement already satisfied: xgboost in /usr/local/lib/python3.7/dist-packages (0.90)\n",
            "Requirement already satisfied: numpy in /usr/local/lib/python3.7/dist-packages (from xgboost) (1.19.5)\n",
            "Requirement already satisfied: scipy in /usr/local/lib/python3.7/dist-packages (from xgboost) (1.4.1)\n"
          ]
        }
      ]
    },
    {
      "cell_type": "code",
      "metadata": {
        "id": "ylD4MqTsqOAg"
      },
      "source": [
        "import xgboost as xgb"
      ],
      "execution_count": 52,
      "outputs": []
    },
    {
      "cell_type": "code",
      "metadata": {
        "id": "UHoC3MoSqO3z"
      },
      "source": [
        "features = dv.get_feature_names()\n",
        "dtrain = xgb.DMatrix(X_train, label=y_train_b, feature_names=features)\n",
        "dval = xgb.DMatrix(X_val, label=y_val_b, feature_names=features)"
      ],
      "execution_count": 53,
      "outputs": []
    },
    {
      "cell_type": "code",
      "metadata": {
        "id": "K8nVMEQjqYSZ"
      },
      "source": [
        "xgb_params = {\n",
        "    'eta': 0.3, \n",
        "    'max_depth': 6,\n",
        "    'min_child_weight': 1,\n",
        "    \n",
        "    'objective': 'binary:logistic',\n",
        "    'nthread': 8,\n",
        "    \n",
        "    'seed': 1,\n",
        "    'verbosity': 1,\n",
        "}\n",
        "\n",
        "model = xgb.train(xgb_params, dtrain, num_boost_round=10)"
      ],
      "execution_count": 54,
      "outputs": []
    },
    {
      "cell_type": "code",
      "metadata": {
        "colab": {
          "base_uri": "https://localhost:8080/"
        },
        "id": "Rd9kYZDxqdQN",
        "outputId": "a8b40ebe-265a-49dc-89b9-6eb2faabec99"
      },
      "source": [
        "y_pred = model.predict(dval)\n",
        "roc_auc_score(y_val_b, y_pred)"
      ],
      "execution_count": 56,
      "outputs": [
        {
          "output_type": "execute_result",
          "data": {
            "text/plain": [
              "0.8966331029393493"
            ]
          },
          "metadata": {},
          "execution_count": 56
        }
      ]
    },
    {
      "cell_type": "code",
      "metadata": {
        "id": "GfVX846mqls3"
      },
      "source": [
        "watchlist = [(dtrain, 'train'), (dval, 'val')]"
      ],
      "execution_count": 57,
      "outputs": []
    },
    {
      "cell_type": "code",
      "metadata": {
        "id": "e9w2j_QUqpi8"
      },
      "source": [
        "%%capture output\n",
        "\n",
        "xgb_params = {\n",
        "    'eta': 0.3, \n",
        "    'max_depth': 6,\n",
        "    'min_child_weight': 1,\n",
        "    \n",
        "    'objective': 'binary:logistic',\n",
        "    'eval_metric': 'auc',\n",
        "\n",
        "    'nthread': 8,\n",
        "    'seed': 1,\n",
        "    'verbosity': 1,\n",
        "}\n",
        "\n",
        "model = xgb.train(xgb_params, dtrain, num_boost_round=200,\n",
        "                  verbose_eval=5,\n",
        "                  evals=watchlist)"
      ],
      "execution_count": 58,
      "outputs": []
    },
    {
      "cell_type": "code",
      "metadata": {
        "id": "_PMzGk6cqwHK"
      },
      "source": [
        "s = output.stdout"
      ],
      "execution_count": 59,
      "outputs": []
    },
    {
      "cell_type": "code",
      "metadata": {
        "colab": {
          "base_uri": "https://localhost:8080/"
        },
        "id": "teJyMn68qzCb",
        "outputId": "92fa3fdc-6821-4e8c-a2b8-548f2c107c0b"
      },
      "source": [
        "print(s[:200])"
      ],
      "execution_count": 60,
      "outputs": [
        {
          "output_type": "stream",
          "name": "stdout",
          "text": [
            "[0]\ttrain-auc:0.887824\tval-auc:0.882088\n",
            "[5]\ttrain-auc:0.903108\tval-auc:0.893592\n",
            "[10]\ttrain-auc:0.909514\tval-auc:0.896969\n",
            "[15]\ttrain-auc:0.914989\tval-auc:0.899269\n",
            "[20]\ttrain-auc:0.919179\tval-auc:0.9008\n"
          ]
        }
      ]
    },
    {
      "cell_type": "code",
      "metadata": {
        "id": "_WU-Avs7sluA"
      },
      "source": [
        "%%capture output\n",
        "\n",
        "xgb_params = {\n",
        "    'eta': 0.1, \n",
        "    'max_depth': 10,\n",
        "    'min_child_weight': 1,\n",
        "    \n",
        "    'objective': 'binary:logistic',\n",
        "    'eval_metric': 'auc',\n",
        "\n",
        "    'nthread': 8,\n",
        "    'seed': 1,\n",
        "    'verbosity': 1,\n",
        "}\n",
        "\n",
        "model = xgb.train(xgb_params, dtrain, num_boost_round=200,\n",
        "                  verbose_eval=5,\n",
        "                  evals=watchlist)"
      ],
      "execution_count": 62,
      "outputs": []
    },
    {
      "cell_type": "code",
      "metadata": {
        "colab": {
          "base_uri": "https://localhost:8080/"
        },
        "id": "PQ6It-2pst9q",
        "outputId": "6e54584c-031f-495b-bec9-d1c057d99be6"
      },
      "source": [
        "y_pred = model.predict(dval)\n",
        "roc_auc_score(y_val_b, y_pred)"
      ],
      "execution_count": 63,
      "outputs": [
        {
          "output_type": "execute_result",
          "data": {
            "text/plain": [
              "0.8998353818311875"
            ]
          },
          "metadata": {},
          "execution_count": 63
        }
      ]
    },
    {
      "cell_type": "code",
      "metadata": {
        "id": "DPn6UJX5s3nO"
      },
      "source": [
        "%%capture output\n",
        "\n",
        "xgb_params = {\n",
        "    'eta': 0.01, \n",
        "    'max_depth': 10,\n",
        "    'min_child_weight': 1,\n",
        "    \n",
        "    'objective': 'binary:logistic',\n",
        "    'eval_metric': 'auc',\n",
        "\n",
        "    'nthread': 8,\n",
        "    'seed': 1,\n",
        "    'verbosity': 1,\n",
        "}\n",
        "\n",
        "model = xgb.train(xgb_params, dtrain, num_boost_round=200,\n",
        "                  verbose_eval=5,\n",
        "                  evals=watchlist)\n"
      ],
      "execution_count": 66,
      "outputs": []
    },
    {
      "cell_type": "code",
      "metadata": {
        "colab": {
          "base_uri": "https://localhost:8080/"
        },
        "id": "qiV8BagBtB0M",
        "outputId": "60412b3e-32b0-4a70-b7a0-1762e899b8e8"
      },
      "source": [
        "\n",
        "y_pred = model.predict(dval)\n",
        "roc_auc_score(y_val_b, y_pred)"
      ],
      "execution_count": 67,
      "outputs": [
        {
          "output_type": "execute_result",
          "data": {
            "text/plain": [
              "0.8990412688658892"
            ]
          },
          "metadata": {},
          "execution_count": 67
        }
      ]
    }
  ]
}