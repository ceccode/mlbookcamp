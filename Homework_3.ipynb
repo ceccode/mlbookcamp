{
  "nbformat": 4,
  "nbformat_minor": 0,
  "metadata": {
    "colab": {
      "name": "Homework 3.ipynb",
      "provenance": [],
      "collapsed_sections": [],
      "authorship_tag": "ABX9TyPcDQVkV71Blakh1isAmvpZ",
      "include_colab_link": true
    },
    "kernelspec": {
      "name": "python3",
      "display_name": "Python 3"
    },
    "language_info": {
      "name": "python"
    }
  },
  "cells": [
    {
      "cell_type": "markdown",
      "metadata": {
        "id": "view-in-github",
        "colab_type": "text"
      },
      "source": [
        "<a href=\"https://colab.research.google.com/github/ceccode/mlbookcamp/blob/main/Homework_3.ipynb\" target=\"_parent\"><img src=\"https://colab.research.google.com/assets/colab-badge.svg\" alt=\"Open In Colab\"/></a>"
      ]
    },
    {
      "cell_type": "markdown",
      "metadata": {
        "id": "NDSXnoWjBE9z"
      },
      "source": [
        "# Homework 3\n",
        "\n",
        "https://github.com/alexeygrigorev/mlbookcamp-code/blob/master/course-zoomcamp/03-classification/homework.md\n",
        "\n"
      ]
    },
    {
      "cell_type": "code",
      "metadata": {
        "id": "9CJNEgWsBDcs"
      },
      "source": [
        "%matplotlib inline\n",
        "\n",
        "import pandas as pd\n",
        "import numpy as np\n",
        "\n",
        "import matplotlib.pyplot as plt\n",
        "import seaborn as sns\n",
        "\n",
        "import warnings\n",
        "warnings.filterwarnings(\"ignore\")"
      ],
      "execution_count": null,
      "outputs": []
    },
    {
      "cell_type": "markdown",
      "metadata": {
        "id": "LCByjQZ5BZru"
      },
      "source": [
        "Data Import"
      ]
    },
    {
      "cell_type": "code",
      "metadata": {
        "id": "zbl4d4ByQnWp"
      },
      "source": [
        "usecols = [\n",
        "  'neighbourhood_group', 'room_type', 'latitude', 'longitude',\n",
        "  'price',\n",
        "  'minimum_nights',\n",
        "  'number_of_reviews',\n",
        "  'reviews_per_month',\n",
        "  'calculated_host_listings_count',\n",
        "  'availability_365']\n",
        " \n",
        "data = pd.read_csv('https://raw.githubusercontent.com/alexeygrigorev/datasets/master/AB_NYC_2019.csv', usecols=usecols)"
      ],
      "execution_count": null,
      "outputs": []
    },
    {
      "cell_type": "code",
      "metadata": {
        "colab": {
          "base_uri": "https://localhost:8080/"
        },
        "id": "DftsVufdQ9cX",
        "outputId": "6fc18916-17ba-4a9d-d681-4cb5382a4e1b"
      },
      "source": [
        "print(data.shape)"
      ],
      "execution_count": null,
      "outputs": [
        {
          "output_type": "stream",
          "name": "stdout",
          "text": [
            "(48895, 10)\n"
          ]
        }
      ]
    },
    {
      "cell_type": "code",
      "metadata": {
        "colab": {
          "base_uri": "https://localhost:8080/",
          "height": 359
        },
        "id": "gIpYgykMRDNj",
        "outputId": "9e0225b3-1647-4342-d62a-7e090415fdc0"
      },
      "source": [
        "data.head(10)"
      ],
      "execution_count": null,
      "outputs": [
        {
          "output_type": "execute_result",
          "data": {
            "text/html": [
              "<div>\n",
              "<style scoped>\n",
              "    .dataframe tbody tr th:only-of-type {\n",
              "        vertical-align: middle;\n",
              "    }\n",
              "\n",
              "    .dataframe tbody tr th {\n",
              "        vertical-align: top;\n",
              "    }\n",
              "\n",
              "    .dataframe thead th {\n",
              "        text-align: right;\n",
              "    }\n",
              "</style>\n",
              "<table border=\"1\" class=\"dataframe\">\n",
              "  <thead>\n",
              "    <tr style=\"text-align: right;\">\n",
              "      <th></th>\n",
              "      <th>neighbourhood_group</th>\n",
              "      <th>latitude</th>\n",
              "      <th>longitude</th>\n",
              "      <th>room_type</th>\n",
              "      <th>price</th>\n",
              "      <th>minimum_nights</th>\n",
              "      <th>number_of_reviews</th>\n",
              "      <th>reviews_per_month</th>\n",
              "      <th>calculated_host_listings_count</th>\n",
              "      <th>availability_365</th>\n",
              "    </tr>\n",
              "  </thead>\n",
              "  <tbody>\n",
              "    <tr>\n",
              "      <th>0</th>\n",
              "      <td>Brooklyn</td>\n",
              "      <td>40.64749</td>\n",
              "      <td>-73.97237</td>\n",
              "      <td>Private room</td>\n",
              "      <td>149</td>\n",
              "      <td>1</td>\n",
              "      <td>9</td>\n",
              "      <td>0.21</td>\n",
              "      <td>6</td>\n",
              "      <td>365</td>\n",
              "    </tr>\n",
              "    <tr>\n",
              "      <th>1</th>\n",
              "      <td>Manhattan</td>\n",
              "      <td>40.75362</td>\n",
              "      <td>-73.98377</td>\n",
              "      <td>Entire home/apt</td>\n",
              "      <td>225</td>\n",
              "      <td>1</td>\n",
              "      <td>45</td>\n",
              "      <td>0.38</td>\n",
              "      <td>2</td>\n",
              "      <td>355</td>\n",
              "    </tr>\n",
              "    <tr>\n",
              "      <th>2</th>\n",
              "      <td>Manhattan</td>\n",
              "      <td>40.80902</td>\n",
              "      <td>-73.94190</td>\n",
              "      <td>Private room</td>\n",
              "      <td>150</td>\n",
              "      <td>3</td>\n",
              "      <td>0</td>\n",
              "      <td>NaN</td>\n",
              "      <td>1</td>\n",
              "      <td>365</td>\n",
              "    </tr>\n",
              "    <tr>\n",
              "      <th>3</th>\n",
              "      <td>Brooklyn</td>\n",
              "      <td>40.68514</td>\n",
              "      <td>-73.95976</td>\n",
              "      <td>Entire home/apt</td>\n",
              "      <td>89</td>\n",
              "      <td>1</td>\n",
              "      <td>270</td>\n",
              "      <td>4.64</td>\n",
              "      <td>1</td>\n",
              "      <td>194</td>\n",
              "    </tr>\n",
              "    <tr>\n",
              "      <th>4</th>\n",
              "      <td>Manhattan</td>\n",
              "      <td>40.79851</td>\n",
              "      <td>-73.94399</td>\n",
              "      <td>Entire home/apt</td>\n",
              "      <td>80</td>\n",
              "      <td>10</td>\n",
              "      <td>9</td>\n",
              "      <td>0.10</td>\n",
              "      <td>1</td>\n",
              "      <td>0</td>\n",
              "    </tr>\n",
              "    <tr>\n",
              "      <th>5</th>\n",
              "      <td>Manhattan</td>\n",
              "      <td>40.74767</td>\n",
              "      <td>-73.97500</td>\n",
              "      <td>Entire home/apt</td>\n",
              "      <td>200</td>\n",
              "      <td>3</td>\n",
              "      <td>74</td>\n",
              "      <td>0.59</td>\n",
              "      <td>1</td>\n",
              "      <td>129</td>\n",
              "    </tr>\n",
              "    <tr>\n",
              "      <th>6</th>\n",
              "      <td>Brooklyn</td>\n",
              "      <td>40.68688</td>\n",
              "      <td>-73.95596</td>\n",
              "      <td>Private room</td>\n",
              "      <td>60</td>\n",
              "      <td>45</td>\n",
              "      <td>49</td>\n",
              "      <td>0.40</td>\n",
              "      <td>1</td>\n",
              "      <td>0</td>\n",
              "    </tr>\n",
              "    <tr>\n",
              "      <th>7</th>\n",
              "      <td>Manhattan</td>\n",
              "      <td>40.76489</td>\n",
              "      <td>-73.98493</td>\n",
              "      <td>Private room</td>\n",
              "      <td>79</td>\n",
              "      <td>2</td>\n",
              "      <td>430</td>\n",
              "      <td>3.47</td>\n",
              "      <td>1</td>\n",
              "      <td>220</td>\n",
              "    </tr>\n",
              "    <tr>\n",
              "      <th>8</th>\n",
              "      <td>Manhattan</td>\n",
              "      <td>40.80178</td>\n",
              "      <td>-73.96723</td>\n",
              "      <td>Private room</td>\n",
              "      <td>79</td>\n",
              "      <td>2</td>\n",
              "      <td>118</td>\n",
              "      <td>0.99</td>\n",
              "      <td>1</td>\n",
              "      <td>0</td>\n",
              "    </tr>\n",
              "    <tr>\n",
              "      <th>9</th>\n",
              "      <td>Manhattan</td>\n",
              "      <td>40.71344</td>\n",
              "      <td>-73.99037</td>\n",
              "      <td>Entire home/apt</td>\n",
              "      <td>150</td>\n",
              "      <td>1</td>\n",
              "      <td>160</td>\n",
              "      <td>1.33</td>\n",
              "      <td>4</td>\n",
              "      <td>188</td>\n",
              "    </tr>\n",
              "  </tbody>\n",
              "</table>\n",
              "</div>"
            ],
            "text/plain": [
              "  neighbourhood_group  ...  availability_365\n",
              "0            Brooklyn  ...               365\n",
              "1           Manhattan  ...               355\n",
              "2           Manhattan  ...               365\n",
              "3            Brooklyn  ...               194\n",
              "4           Manhattan  ...                 0\n",
              "5           Manhattan  ...               129\n",
              "6            Brooklyn  ...                 0\n",
              "7           Manhattan  ...               220\n",
              "8           Manhattan  ...                 0\n",
              "9           Manhattan  ...               188\n",
              "\n",
              "[10 rows x 10 columns]"
            ]
          },
          "metadata": {},
          "execution_count": 4
        }
      ]
    },
    {
      "cell_type": "code",
      "metadata": {
        "id": "M915KQq5SHxJ"
      },
      "source": [
        "df = data.fillna(0)"
      ],
      "execution_count": null,
      "outputs": []
    },
    {
      "cell_type": "code",
      "metadata": {
        "colab": {
          "base_uri": "https://localhost:8080/"
        },
        "id": "CtmwBtQ56cVH",
        "outputId": "dda7b5ec-3cd9-4d89-a4f6-3ab40c42a4cc"
      },
      "source": [
        "df.info()"
      ],
      "execution_count": null,
      "outputs": [
        {
          "output_type": "stream",
          "name": "stdout",
          "text": [
            "<class 'pandas.core.frame.DataFrame'>\n",
            "RangeIndex: 48895 entries, 0 to 48894\n",
            "Data columns (total 10 columns):\n",
            " #   Column                          Non-Null Count  Dtype  \n",
            "---  ------                          --------------  -----  \n",
            " 0   neighbourhood_group             48895 non-null  object \n",
            " 1   latitude                        48895 non-null  float64\n",
            " 2   longitude                       48895 non-null  float64\n",
            " 3   room_type                       48895 non-null  object \n",
            " 4   price                           48895 non-null  int64  \n",
            " 5   minimum_nights                  48895 non-null  int64  \n",
            " 6   number_of_reviews               48895 non-null  int64  \n",
            " 7   reviews_per_month               48895 non-null  float64\n",
            " 8   calculated_host_listings_count  48895 non-null  int64  \n",
            " 9   availability_365                48895 non-null  int64  \n",
            "dtypes: float64(3), int64(5), object(2)\n",
            "memory usage: 3.7+ MB\n"
          ]
        }
      ]
    },
    {
      "cell_type": "markdown",
      "metadata": {
        "id": "lx0n5ajaTOSR"
      },
      "source": [
        "Mode of the dataframe"
      ]
    },
    {
      "cell_type": "code",
      "metadata": {
        "colab": {
          "base_uri": "https://localhost:8080/",
          "height": 111
        },
        "id": "EWKvo9fTTMzV",
        "outputId": "0ce1f043-6464-4429-ba93-df2d88440add"
      },
      "source": [
        "df.mode()"
      ],
      "execution_count": null,
      "outputs": [
        {
          "output_type": "execute_result",
          "data": {
            "text/html": [
              "<div>\n",
              "<style scoped>\n",
              "    .dataframe tbody tr th:only-of-type {\n",
              "        vertical-align: middle;\n",
              "    }\n",
              "\n",
              "    .dataframe tbody tr th {\n",
              "        vertical-align: top;\n",
              "    }\n",
              "\n",
              "    .dataframe thead th {\n",
              "        text-align: right;\n",
              "    }\n",
              "</style>\n",
              "<table border=\"1\" class=\"dataframe\">\n",
              "  <thead>\n",
              "    <tr style=\"text-align: right;\">\n",
              "      <th></th>\n",
              "      <th>neighbourhood_group</th>\n",
              "      <th>latitude</th>\n",
              "      <th>longitude</th>\n",
              "      <th>room_type</th>\n",
              "      <th>price</th>\n",
              "      <th>minimum_nights</th>\n",
              "      <th>number_of_reviews</th>\n",
              "      <th>reviews_per_month</th>\n",
              "      <th>calculated_host_listings_count</th>\n",
              "      <th>availability_365</th>\n",
              "    </tr>\n",
              "  </thead>\n",
              "  <tbody>\n",
              "    <tr>\n",
              "      <th>0</th>\n",
              "      <td>Manhattan</td>\n",
              "      <td>40.71813</td>\n",
              "      <td>-73.95677</td>\n",
              "      <td>Entire home/apt</td>\n",
              "      <td>100.0</td>\n",
              "      <td>1.0</td>\n",
              "      <td>0.0</td>\n",
              "      <td>0.0</td>\n",
              "      <td>1.0</td>\n",
              "      <td>0.0</td>\n",
              "    </tr>\n",
              "    <tr>\n",
              "      <th>1</th>\n",
              "      <td>NaN</td>\n",
              "      <td>NaN</td>\n",
              "      <td>-73.95427</td>\n",
              "      <td>NaN</td>\n",
              "      <td>NaN</td>\n",
              "      <td>NaN</td>\n",
              "      <td>NaN</td>\n",
              "      <td>NaN</td>\n",
              "      <td>NaN</td>\n",
              "      <td>NaN</td>\n",
              "    </tr>\n",
              "  </tbody>\n",
              "</table>\n",
              "</div>"
            ],
            "text/plain": [
              "  neighbourhood_group  ...  availability_365\n",
              "0           Manhattan  ...               0.0\n",
              "1                 NaN  ...               NaN\n",
              "\n",
              "[2 rows x 10 columns]"
            ]
          },
          "metadata": {},
          "execution_count": 7
        }
      ]
    },
    {
      "cell_type": "code",
      "metadata": {
        "colab": {
          "base_uri": "https://localhost:8080/"
        },
        "id": "IqAHeKW0TiBx",
        "outputId": "fd0a3846-0a41-4635-ac95-92644b50a698"
      },
      "source": [
        "# mode of the specific column neighbourhood_group\n",
        "df.loc[:,\"neighbourhood_group\"].mode()\n"
      ],
      "execution_count": null,
      "outputs": [
        {
          "output_type": "execute_result",
          "data": {
            "text/plain": [
              "0    Manhattan\n",
              "dtype: object"
            ]
          },
          "metadata": {},
          "execution_count": 8
        }
      ]
    },
    {
      "cell_type": "markdown",
      "metadata": {
        "id": "0Ym5WeV_Uli6"
      },
      "source": [
        "**Answer for Question #1 Manhattan**"
      ]
    },
    {
      "cell_type": "code",
      "metadata": {
        "colab": {
          "base_uri": "https://localhost:8080/"
        },
        "id": "xWFqMURqeF-u",
        "outputId": "7fe145f9-8eab-446e-b131-eca4da73e864"
      },
      "source": [
        "df.columns = data.columns.str.lower().str.replace(' ', '_')\n",
        "strings = list(df.dtypes[df.dtypes == 'object'].index)\n",
        "strings"
      ],
      "execution_count": null,
      "outputs": [
        {
          "output_type": "execute_result",
          "data": {
            "text/plain": [
              "['neighbourhood_group', 'room_type']"
            ]
          },
          "metadata": {},
          "execution_count": 9
        }
      ]
    },
    {
      "cell_type": "code",
      "metadata": {
        "id": "NwNGuERqemzw"
      },
      "source": [
        "for col in strings:\n",
        "    df[col] = df[col].str.lower().str.replace(' ', '_')"
      ],
      "execution_count": null,
      "outputs": []
    },
    {
      "cell_type": "code",
      "metadata": {
        "colab": {
          "base_uri": "https://localhost:8080/"
        },
        "id": "H8N8H715ep2J",
        "outputId": "e3e0dfcb-3b34-4bdd-c30d-252821de044e"
      },
      "source": [
        "df.dtypes"
      ],
      "execution_count": null,
      "outputs": [
        {
          "output_type": "execute_result",
          "data": {
            "text/plain": [
              "neighbourhood_group                object\n",
              "latitude                          float64\n",
              "longitude                         float64\n",
              "room_type                          object\n",
              "price                               int64\n",
              "minimum_nights                      int64\n",
              "number_of_reviews                   int64\n",
              "reviews_per_month                 float64\n",
              "calculated_host_listings_count      int64\n",
              "availability_365                    int64\n",
              "dtype: object"
            ]
          },
          "metadata": {},
          "execution_count": 11
        }
      ]
    },
    {
      "cell_type": "code",
      "metadata": {
        "colab": {
          "base_uri": "https://localhost:8080/"
        },
        "id": "wNucOvbhfLcv",
        "outputId": "9eb6b0c3-e743-46cc-b5a5-f7a4c951b7da"
      },
      "source": [
        "for col in df.columns:\n",
        "    print(col)\n",
        "    print(df[col].unique()[:5])\n",
        "    print(df[col].nunique())\n",
        "    print()"
      ],
      "execution_count": null,
      "outputs": [
        {
          "output_type": "stream",
          "name": "stdout",
          "text": [
            "neighbourhood_group\n",
            "['brooklyn' 'manhattan' 'queens' 'staten_island' 'bronx']\n",
            "5\n",
            "\n",
            "latitude\n",
            "[40.64749 40.75362 40.80902 40.68514 40.79851]\n",
            "19048\n",
            "\n",
            "longitude\n",
            "[-73.97237 -73.98377 -73.9419  -73.95976 -73.94399]\n",
            "14718\n",
            "\n",
            "room_type\n",
            "['private_room' 'entire_home/apt' 'shared_room']\n",
            "3\n",
            "\n",
            "price\n",
            "[149 225 150  89  80]\n",
            "674\n",
            "\n",
            "minimum_nights\n",
            "[ 1  3 10 45  2]\n",
            "109\n",
            "\n",
            "number_of_reviews\n",
            "[  9  45   0 270  74]\n",
            "394\n",
            "\n",
            "reviews_per_month\n",
            "[0.21 0.38 0.   4.64 0.1 ]\n",
            "938\n",
            "\n",
            "calculated_host_listings_count\n",
            "[6 2 1 4 3]\n",
            "47\n",
            "\n",
            "availability_365\n",
            "[365 355 194   0 129]\n",
            "366\n",
            "\n"
          ]
        }
      ]
    },
    {
      "cell_type": "code",
      "metadata": {
        "colab": {
          "base_uri": "https://localhost:8080/",
          "height": 204
        },
        "id": "CUqAuurhesHs",
        "outputId": "e44b101a-a1f5-471b-bdd1-5179406bddae"
      },
      "source": [
        "df.head()"
      ],
      "execution_count": null,
      "outputs": [
        {
          "output_type": "execute_result",
          "data": {
            "text/html": [
              "<div>\n",
              "<style scoped>\n",
              "    .dataframe tbody tr th:only-of-type {\n",
              "        vertical-align: middle;\n",
              "    }\n",
              "\n",
              "    .dataframe tbody tr th {\n",
              "        vertical-align: top;\n",
              "    }\n",
              "\n",
              "    .dataframe thead th {\n",
              "        text-align: right;\n",
              "    }\n",
              "</style>\n",
              "<table border=\"1\" class=\"dataframe\">\n",
              "  <thead>\n",
              "    <tr style=\"text-align: right;\">\n",
              "      <th></th>\n",
              "      <th>neighbourhood_group</th>\n",
              "      <th>latitude</th>\n",
              "      <th>longitude</th>\n",
              "      <th>room_type</th>\n",
              "      <th>price</th>\n",
              "      <th>minimum_nights</th>\n",
              "      <th>number_of_reviews</th>\n",
              "      <th>reviews_per_month</th>\n",
              "      <th>calculated_host_listings_count</th>\n",
              "      <th>availability_365</th>\n",
              "    </tr>\n",
              "  </thead>\n",
              "  <tbody>\n",
              "    <tr>\n",
              "      <th>0</th>\n",
              "      <td>brooklyn</td>\n",
              "      <td>40.64749</td>\n",
              "      <td>-73.97237</td>\n",
              "      <td>private_room</td>\n",
              "      <td>149</td>\n",
              "      <td>1</td>\n",
              "      <td>9</td>\n",
              "      <td>0.21</td>\n",
              "      <td>6</td>\n",
              "      <td>365</td>\n",
              "    </tr>\n",
              "    <tr>\n",
              "      <th>1</th>\n",
              "      <td>manhattan</td>\n",
              "      <td>40.75362</td>\n",
              "      <td>-73.98377</td>\n",
              "      <td>entire_home/apt</td>\n",
              "      <td>225</td>\n",
              "      <td>1</td>\n",
              "      <td>45</td>\n",
              "      <td>0.38</td>\n",
              "      <td>2</td>\n",
              "      <td>355</td>\n",
              "    </tr>\n",
              "    <tr>\n",
              "      <th>2</th>\n",
              "      <td>manhattan</td>\n",
              "      <td>40.80902</td>\n",
              "      <td>-73.94190</td>\n",
              "      <td>private_room</td>\n",
              "      <td>150</td>\n",
              "      <td>3</td>\n",
              "      <td>0</td>\n",
              "      <td>0.00</td>\n",
              "      <td>1</td>\n",
              "      <td>365</td>\n",
              "    </tr>\n",
              "    <tr>\n",
              "      <th>3</th>\n",
              "      <td>brooklyn</td>\n",
              "      <td>40.68514</td>\n",
              "      <td>-73.95976</td>\n",
              "      <td>entire_home/apt</td>\n",
              "      <td>89</td>\n",
              "      <td>1</td>\n",
              "      <td>270</td>\n",
              "      <td>4.64</td>\n",
              "      <td>1</td>\n",
              "      <td>194</td>\n",
              "    </tr>\n",
              "    <tr>\n",
              "      <th>4</th>\n",
              "      <td>manhattan</td>\n",
              "      <td>40.79851</td>\n",
              "      <td>-73.94399</td>\n",
              "      <td>entire_home/apt</td>\n",
              "      <td>80</td>\n",
              "      <td>10</td>\n",
              "      <td>9</td>\n",
              "      <td>0.10</td>\n",
              "      <td>1</td>\n",
              "      <td>0</td>\n",
              "    </tr>\n",
              "  </tbody>\n",
              "</table>\n",
              "</div>"
            ],
            "text/plain": [
              "  neighbourhood_group  ...  availability_365\n",
              "0            brooklyn  ...               365\n",
              "1           manhattan  ...               355\n",
              "2           manhattan  ...               365\n",
              "3            brooklyn  ...               194\n",
              "4           manhattan  ...                 0\n",
              "\n",
              "[5 rows x 10 columns]"
            ]
          },
          "metadata": {},
          "execution_count": 13
        }
      ]
    },
    {
      "cell_type": "markdown",
      "metadata": {
        "id": "cDJERfJxXysy"
      },
      "source": [
        "train, val, test set will be 60%, 20%, 20% of the dataset respectively"
      ]
    },
    {
      "cell_type": "code",
      "metadata": {
        "id": "t83c5sbbY8Wp"
      },
      "source": [
        "from sklearn.model_selection import train_test_split"
      ],
      "execution_count": null,
      "outputs": []
    },
    {
      "cell_type": "code",
      "metadata": {
        "id": "LcHfvBprUogT"
      },
      "source": [
        "df_full_train, df_test = train_test_split(df, test_size=0.2, random_state=1)\n",
        "df_train, df_val = train_test_split(df_full_train, test_size=0.25, random_state=1)"
      ],
      "execution_count": null,
      "outputs": []
    },
    {
      "cell_type": "code",
      "metadata": {
        "colab": {
          "base_uri": "https://localhost:8080/"
        },
        "id": "D5NS8PFkZCe5",
        "outputId": "d38f6f4e-0f3b-42d6-c77f-0f1caf8a3db0"
      },
      "source": [
        "len(df_train), len(df_val), len(df_test)"
      ],
      "execution_count": null,
      "outputs": [
        {
          "output_type": "execute_result",
          "data": {
            "text/plain": [
              "(29337, 9779, 9779)"
            ]
          },
          "metadata": {},
          "execution_count": 16
        }
      ]
    },
    {
      "cell_type": "code",
      "metadata": {
        "id": "w4vpnQRZZGfY"
      },
      "source": [
        "df_train = df_train.reset_index(drop=True)\n",
        "df_val = df_val.reset_index(drop=True)\n",
        "df_test = df_test.reset_index(drop=True)\n",
        "\n",
        "y_train = df_train.price.values\n",
        "y_val = df_val.price.values\n",
        "y_test = df_test.price.values\n",
        "\n",
        "#Since logistic regression is a binary classification model, y should be a binary variable\n",
        "\n",
        "y_train_b = (y_train > 152).astype(int)\n",
        "y_val_b = (y_val > 152).astype(int)\n",
        "y_test_b = (y_test > 152).astype(int)\n",
        "\n",
        "del df_train['price']\n",
        "del df_val['price']\n",
        "del df_test['price']"
      ],
      "execution_count": null,
      "outputs": []
    },
    {
      "cell_type": "markdown",
      "metadata": {
        "id": "v8t2cMEwZ9pT"
      },
      "source": [
        "Correlation is a statistical technique that shows how two variables are related. \n",
        "Pandas dataframe.corr() method is used for creating the correlation matrix. It is used to find the pairwise correlation of all columns in the dataframe. Any na values are automatically excluded. For any non-numeric data type columns in the dataframe it is ignored.\n",
        "\n",
        "Values at the diagonal shows the correlation of a variable with itself, hence diagonal shows the correlation 1"
      ]
    },
    {
      "cell_type": "code",
      "metadata": {
        "colab": {
          "base_uri": "https://localhost:8080/",
          "height": 297
        },
        "id": "NmJD7xi4Zh2S",
        "outputId": "698d0e42-b0d1-49de-9aa9-c0136f846289"
      },
      "source": [
        "df_full_train = df_full_train.reset_index(drop=True)\n",
        "\n",
        "cor = df_full_train.corr()\n",
        "cor"
      ],
      "execution_count": null,
      "outputs": [
        {
          "output_type": "execute_result",
          "data": {
            "text/html": [
              "<div>\n",
              "<style scoped>\n",
              "    .dataframe tbody tr th:only-of-type {\n",
              "        vertical-align: middle;\n",
              "    }\n",
              "\n",
              "    .dataframe tbody tr th {\n",
              "        vertical-align: top;\n",
              "    }\n",
              "\n",
              "    .dataframe thead th {\n",
              "        text-align: right;\n",
              "    }\n",
              "</style>\n",
              "<table border=\"1\" class=\"dataframe\">\n",
              "  <thead>\n",
              "    <tr style=\"text-align: right;\">\n",
              "      <th></th>\n",
              "      <th>latitude</th>\n",
              "      <th>longitude</th>\n",
              "      <th>price</th>\n",
              "      <th>minimum_nights</th>\n",
              "      <th>number_of_reviews</th>\n",
              "      <th>reviews_per_month</th>\n",
              "      <th>calculated_host_listings_count</th>\n",
              "      <th>availability_365</th>\n",
              "    </tr>\n",
              "  </thead>\n",
              "  <tbody>\n",
              "    <tr>\n",
              "      <th>latitude</th>\n",
              "      <td>1.000000</td>\n",
              "      <td>0.087077</td>\n",
              "      <td>0.035097</td>\n",
              "      <td>0.019405</td>\n",
              "      <td>-0.019116</td>\n",
              "      <td>-0.018469</td>\n",
              "      <td>0.019113</td>\n",
              "      <td>-0.015367</td>\n",
              "    </tr>\n",
              "    <tr>\n",
              "      <th>longitude</th>\n",
              "      <td>0.087077</td>\n",
              "      <td>1.000000</td>\n",
              "      <td>-0.154201</td>\n",
              "      <td>-0.064843</td>\n",
              "      <td>0.060512</td>\n",
              "      <td>0.138059</td>\n",
              "      <td>-0.114354</td>\n",
              "      <td>0.082621</td>\n",
              "    </tr>\n",
              "    <tr>\n",
              "      <th>price</th>\n",
              "      <td>0.035097</td>\n",
              "      <td>-0.154201</td>\n",
              "      <td>1.000000</td>\n",
              "      <td>0.039181</td>\n",
              "      <td>-0.048133</td>\n",
              "      <td>-0.050050</td>\n",
              "      <td>0.057003</td>\n",
              "      <td>0.081628</td>\n",
              "    </tr>\n",
              "    <tr>\n",
              "      <th>minimum_nights</th>\n",
              "      <td>0.019405</td>\n",
              "      <td>-0.064843</td>\n",
              "      <td>0.039181</td>\n",
              "      <td>1.000000</td>\n",
              "      <td>-0.079131</td>\n",
              "      <td>-0.123522</td>\n",
              "      <td>0.127723</td>\n",
              "      <td>0.146533</td>\n",
              "    </tr>\n",
              "    <tr>\n",
              "      <th>number_of_reviews</th>\n",
              "      <td>-0.019116</td>\n",
              "      <td>0.060512</td>\n",
              "      <td>-0.048133</td>\n",
              "      <td>-0.079131</td>\n",
              "      <td>1.000000</td>\n",
              "      <td>0.590518</td>\n",
              "      <td>-0.071874</td>\n",
              "      <td>0.172371</td>\n",
              "    </tr>\n",
              "    <tr>\n",
              "      <th>reviews_per_month</th>\n",
              "      <td>-0.018469</td>\n",
              "      <td>0.138059</td>\n",
              "      <td>-0.050050</td>\n",
              "      <td>-0.123522</td>\n",
              "      <td>0.590518</td>\n",
              "      <td>1.000000</td>\n",
              "      <td>-0.045503</td>\n",
              "      <td>0.166633</td>\n",
              "    </tr>\n",
              "    <tr>\n",
              "      <th>calculated_host_listings_count</th>\n",
              "      <td>0.019113</td>\n",
              "      <td>-0.114354</td>\n",
              "      <td>0.057003</td>\n",
              "      <td>0.127723</td>\n",
              "      <td>-0.071874</td>\n",
              "      <td>-0.045503</td>\n",
              "      <td>1.000000</td>\n",
              "      <td>0.227129</td>\n",
              "    </tr>\n",
              "    <tr>\n",
              "      <th>availability_365</th>\n",
              "      <td>-0.015367</td>\n",
              "      <td>0.082621</td>\n",
              "      <td>0.081628</td>\n",
              "      <td>0.146533</td>\n",
              "      <td>0.172371</td>\n",
              "      <td>0.166633</td>\n",
              "      <td>0.227129</td>\n",
              "      <td>1.000000</td>\n",
              "    </tr>\n",
              "  </tbody>\n",
              "</table>\n",
              "</div>"
            ],
            "text/plain": [
              "                                latitude  ...  availability_365\n",
              "latitude                        1.000000  ...         -0.015367\n",
              "longitude                       0.087077  ...          0.082621\n",
              "price                           0.035097  ...          0.081628\n",
              "minimum_nights                  0.019405  ...          0.146533\n",
              "number_of_reviews              -0.019116  ...          0.172371\n",
              "reviews_per_month              -0.018469  ...          0.166633\n",
              "calculated_host_listings_count  0.019113  ...          0.227129\n",
              "availability_365               -0.015367  ...          1.000000\n",
              "\n",
              "[8 rows x 8 columns]"
            ]
          },
          "metadata": {},
          "execution_count": 18
        }
      ]
    },
    {
      "cell_type": "markdown",
      "metadata": {
        "id": "z18G1Q4hb6wc"
      },
      "source": [
        "The correlation coefficient has values between -1 to 1\n",
        "\n",
        "* A value closer to 0 implies weaker correlation (exact 0 implying no correlation)\n",
        "* A value closer to 1 implies stronger positive correlation\n",
        "* A value closer to -1 implies stronger negative correlation"
      ]
    },
    {
      "cell_type": "code",
      "metadata": {
        "colab": {
          "base_uri": "https://localhost:8080/",
          "height": 411
        },
        "id": "fEoY0GfcaJ0K",
        "outputId": "ac2178de-5786-458b-dde5-71c4c119ab26"
      },
      "source": [
        "sns.heatmap(cor, annot=True, cmap=plt.cm.Reds)\n",
        "plt.show()"
      ],
      "execution_count": null,
      "outputs": [
        {
          "output_type": "display_data",
          "data": {
            "image/png": "[encoded data removed]",
            "text/plain": [
              "<Figure size 432x288 with 2 Axes>"
            ]
          },
          "metadata": {
            "needs_background": "light"
          }
        }
      ]
    },
    {
      "cell_type": "markdown",
      "metadata": {
        "id": "Z5h_vcj3bNV9"
      },
      "source": [
        "**Answer for Question #2 number_of_reviews, reviews_per_month**"
      ]
    },
    {
      "cell_type": "code",
      "metadata": {
        "colab": {
          "base_uri": "https://localhost:8080/"
        },
        "id": "50mi9sfegbn3",
        "outputId": "4b491a59-5975-4d63-a204-8f5736f36a8d"
      },
      "source": [
        "above_average = np.where(df_full_train['price'] >= 152, 1, 0)\n",
        "above_average"
      ],
      "execution_count": null,
      "outputs": [
        {
          "output_type": "execute_result",
          "data": {
            "text/plain": [
              "array([0, 1, 1, ..., 0, 1, 0])"
            ]
          },
          "metadata": {},
          "execution_count": 20
        }
      ]
    },
    {
      "cell_type": "markdown",
      "metadata": {
        "id": "imLWGpQQhXIA"
      },
      "source": [
        "The Mutual Information is a measure of the similarity between two labels of the same data"
      ]
    },
    {
      "cell_type": "code",
      "metadata": {
        "colab": {
          "base_uri": "https://localhost:8080/"
        },
        "id": "caDCYUQ6h5Si",
        "outputId": "b4fcb542-f564-45ae-969d-2eb4b2592f6e"
      },
      "source": [
        "from sklearn.metrics import mutual_info_score\n",
        "\n",
        "mi_score_ng = mutual_info_score(df_full_train.neighbourhood_group, above_average)\n",
        "mi_score_ng"
      ],
      "execution_count": null,
      "outputs": [
        {
          "output_type": "execute_result",
          "data": {
            "text/plain": [
              "0.04628016766358482"
            ]
          },
          "metadata": {},
          "execution_count": 21
        }
      ]
    },
    {
      "cell_type": "code",
      "metadata": {
        "colab": {
          "base_uri": "https://localhost:8080/"
        },
        "id": "j5zwZK8YiR0t",
        "outputId": "d82ee0dd-579c-433a-a734-5b61032f1408"
      },
      "source": [
        "mi_score_rt = mutual_info_score(df_full_train.room_type, above_average)\n",
        "mi_score_rt"
      ],
      "execution_count": null,
      "outputs": [
        {
          "output_type": "execute_result",
          "data": {
            "text/plain": [
              "0.14429761662566526"
            ]
          },
          "metadata": {},
          "execution_count": 22
        }
      ]
    },
    {
      "cell_type": "code",
      "metadata": {
        "colab": {
          "base_uri": "https://localhost:8080/"
        },
        "id": "9X20_lCRk40L",
        "outputId": "ae5eb705-32eb-490c-8138-ae633f508a1a"
      },
      "source": [
        "round(mi_score_ng, 2), round(mi_score_rt, 2), "
      ],
      "execution_count": null,
      "outputs": [
        {
          "output_type": "execute_result",
          "data": {
            "text/plain": [
              "(0.05, 0.14)"
            ]
          },
          "metadata": {},
          "execution_count": 23
        }
      ]
    },
    {
      "cell_type": "markdown",
      "metadata": {
        "id": "cmhJ5Hb0lAgs"
      },
      "source": [
        "**Answer for Question #3 room_type**"
      ]
    },
    {
      "cell_type": "markdown",
      "metadata": {
        "id": "0nEiSz15ounp"
      },
      "source": [
        "The class DictVectorizer can be used to convert feature arrays represented as lists of standard Python dict objects to the NumPy/SciPy representation used by scikit-learn estimators.\n",
        "\n",
        "While not particularly fast to process, Python’s dict has the advantages of being convenient to use, being sparse (absent features need not be stored) and storing feature names in addition to values.\n",
        "\n",
        "DictVectorizer implements what is called one-of-K or “one-hot” coding for categorical (aka nominal, discrete) features. Categorical features are “attribute-value” pairs where the value is restricted to a list of discrete of possibilities without ordering (e.g. topic identifiers, types of objects, tags, names…)."
      ]
    },
    {
      "cell_type": "code",
      "metadata": {
        "colab": {
          "base_uri": "https://localhost:8080/"
        },
        "id": "mDcH-GtylGeu",
        "outputId": "a5b1d219-869d-481f-c41c-c33ddc59019e"
      },
      "source": [
        "from sklearn.feature_extraction import DictVectorizer\n",
        "dv = DictVectorizer()\n",
        "\n",
        "numerical = ['latitude', 'longitude', 'minimum_nights', 'number_of_reviews', 'reviews_per_month', 'calculated_host_listings_count', 'availability_365']\n",
        "categorical = ['neighbourhood_group', 'room_type']\n",
        "\n",
        "train_dict = df_train[categorical + numerical].to_dict(orient='records')\n",
        "X_train = dv.fit_transform(train_dict)\n",
        "\n",
        "val_dict = df_val[categorical + numerical].to_dict(orient='records')\n",
        "X_val = dv.transform(val_dict)\n",
        "\n",
        "X_train.shape, X_val.shape\n"
      ],
      "execution_count": null,
      "outputs": [
        {
          "output_type": "execute_result",
          "data": {
            "text/plain": [
              "((29337, 15), (9779, 15))"
            ]
          },
          "metadata": {},
          "execution_count": 24
        }
      ]
    },
    {
      "cell_type": "code",
      "metadata": {
        "colab": {
          "base_uri": "https://localhost:8080/"
        },
        "id": "aX7fS4hDpD23",
        "outputId": "ee3d74be-df30-4068-8c42-a14be2c4aa22"
      },
      "source": [
        "from sklearn.linear_model import LogisticRegression\n",
        "\n",
        "model = LogisticRegression(solver='lbfgs', C=1.0, random_state=42)\n",
        "model.fit(X_train, y_train_b)\n"
      ],
      "execution_count": null,
      "outputs": [
        {
          "output_type": "execute_result",
          "data": {
            "text/plain": [
              "LogisticRegression(C=1.0, class_weight=None, dual=False, fit_intercept=True,\n",
              "                   intercept_scaling=1, l1_ratio=None, max_iter=100,\n",
              "                   multi_class='auto', n_jobs=None, penalty='l2',\n",
              "                   random_state=42, solver='lbfgs', tol=0.0001, verbose=0,\n",
              "                   warm_start=False)"
            ]
          },
          "metadata": {},
          "execution_count": 25
        }
      ]
    },
    {
      "cell_type": "code",
      "metadata": {
        "colab": {
          "base_uri": "https://localhost:8080/"
        },
        "id": "f5FAQ1w8sDc1",
        "outputId": "893c5c7c-56a8-4a46-d413-a3e77d68a40d"
      },
      "source": [
        "model.intercept_[0]"
      ],
      "execution_count": null,
      "outputs": [
        {
          "output_type": "execute_result",
          "data": {
            "text/plain": [
              "-0.001871622533386512"
            ]
          },
          "metadata": {},
          "execution_count": 26
        }
      ]
    },
    {
      "cell_type": "code",
      "metadata": {
        "colab": {
          "base_uri": "https://localhost:8080/"
        },
        "id": "xqqPmkRVsGbB",
        "outputId": "5dbddf0e-8dbb-4f48-8623-661462d6b4e1"
      },
      "source": [
        "model.coef_[0].round(3)"
      ],
      "execution_count": null,
      "outputs": [
        {
          "output_type": "execute_result",
          "data": {
            "text/plain": [
              "array([ 0.003,  0.004, -0.137, -0.048, -0.009, -0.235, -0.002,  0.946,\n",
              "       -0.629, -0.081, -0.003, -0.046,  1.624, -1.342, -0.284])"
            ]
          },
          "metadata": {},
          "execution_count": 27
        }
      ]
    },
    {
      "cell_type": "code",
      "metadata": {
        "colab": {
          "base_uri": "https://localhost:8080/"
        },
        "id": "piXnIJC5sIrD",
        "outputId": "7e1d0ce5-480f-4d96-d043-f7beb069754f"
      },
      "source": [
        "y_pred = model.predict_proba(X_val)[:, 1]\n",
        "y_pred"
      ],
      "execution_count": null,
      "outputs": [
        {
          "output_type": "execute_result",
          "data": {
            "text/plain": [
              "array([0.07651517, 0.37754032, 0.59827228, ..., 0.60215496, 0.60870476,\n",
              "       0.44622299])"
            ]
          },
          "metadata": {},
          "execution_count": 28
        }
      ]
    },
    {
      "cell_type": "markdown",
      "metadata": {
        "id": "5BH93KXY9vZA"
      },
      "source": [
        "Accuracy is the proportion of correct predictions over total predictions"
      ]
    },
    {
      "cell_type": "markdown",
      "metadata": {
        "id": "f3Uvcrav8PkB"
      },
      "source": [
        "Every estimator or model in Scikit-learn has a score method after being trained on the data, usually X_train, y_train.\n",
        "\n",
        "When you call score on classifiers like LogisticRegression, RandomForestClassifier, etc. the method computes the accuracy score by default (accuracy is #correct_preds / #all_preds). By default, the score method does not need the actual predictions"
      ]
    },
    {
      "cell_type": "code",
      "metadata": {
        "colab": {
          "base_uri": "https://localhost:8080/"
        },
        "id": "5hfPMg_UAZIv",
        "outputId": "13edcd53-531c-43cb-fbec-ca188f8406a4"
      },
      "source": [
        "model.score(X_val, y_test_b)"
      ],
      "execution_count": null,
      "outputs": [
        {
          "output_type": "execute_result",
          "data": {
            "text/plain": [
              "0.5784845076183659"
            ]
          },
          "metadata": {},
          "execution_count": 29
        }
      ]
    },
    {
      "cell_type": "code",
      "metadata": {
        "colab": {
          "base_uri": "https://localhost:8080/"
        },
        "id": "t-O_O1zetlxx",
        "outputId": "656058e6-b89a-4260-e16c-2cf5d9351924"
      },
      "source": [
        "round(0.5784845076183659, 2)"
      ],
      "execution_count": null,
      "outputs": [
        {
          "output_type": "execute_result",
          "data": {
            "text/plain": [
              "0.58"
            ]
          },
          "metadata": {},
          "execution_count": 31
        }
      ]
    },
    {
      "cell_type": "markdown",
      "metadata": {
        "id": "Enu5y-oy040Z"
      },
      "source": [
        "Answer for Question #4 0.58"
      ]
    },
    {
      "cell_type": "code",
      "metadata": {
        "colab": {
          "base_uri": "https://localhost:8080/"
        },
        "id": "9ONwCFxk3N_A",
        "outputId": "e7ad955a-56c7-4c9f-a7ae-73fe14d6fe32"
      },
      "source": [
        "dict(zip(dv.get_feature_names(), model.coef_[0].round(3)))"
      ],
      "execution_count": null,
      "outputs": [
        {
          "output_type": "execute_result",
          "data": {
            "text/plain": [
              "{'availability_365': 0.003,\n",
              " 'calculated_host_listings_count': 0.004,\n",
              " 'latitude': -0.137,\n",
              " 'longitude': -0.048,\n",
              " 'minimum_nights': -0.009,\n",
              " 'neighbourhood_group=bronx': -0.235,\n",
              " 'neighbourhood_group=brooklyn': -0.002,\n",
              " 'neighbourhood_group=manhattan': 0.946,\n",
              " 'neighbourhood_group=queens': -0.629,\n",
              " 'neighbourhood_group=staten_island': -0.081,\n",
              " 'number_of_reviews': -0.003,\n",
              " 'reviews_per_month': -0.046,\n",
              " 'room_type=entire_home/apt': 1.624,\n",
              " 'room_type=private_room': -1.342,\n",
              " 'room_type=shared_room': -0.284}"
            ]
          },
          "metadata": {},
          "execution_count": 35
        }
      ]
    },
    {
      "cell_type": "code",
      "metadata": {
        "colab": {
          "base_uri": "https://localhost:8080/"
        },
        "id": "5P0lt0Wq5X-F",
        "outputId": "2049f4f2-25a3-47d3-f6db-48ab5de3290b"
      },
      "source": [
        "small = ['neighbourhood_group', 'number_of_reviews', 'reviews_per_month', 'room_type']\n",
        "df_train[small].iloc[:10].to_dict(orient='records')"
      ],
      "execution_count": null,
      "outputs": [
        {
          "output_type": "execute_result",
          "data": {
            "text/plain": [
              "[{'neighbourhood_group': 'queens',\n",
              "  'number_of_reviews': 30,\n",
              "  'reviews_per_month': 0.32,\n",
              "  'room_type': 'entire_home/apt'},\n",
              " {'neighbourhood_group': 'brooklyn',\n",
              "  'number_of_reviews': 2,\n",
              "  'reviews_per_month': 0.16,\n",
              "  'room_type': 'private_room'},\n",
              " {'neighbourhood_group': 'brooklyn',\n",
              "  'number_of_reviews': 33,\n",
              "  'reviews_per_month': 2.75,\n",
              "  'room_type': 'entire_home/apt'},\n",
              " {'neighbourhood_group': 'brooklyn',\n",
              "  'number_of_reviews': 1,\n",
              "  'reviews_per_month': 0.12,\n",
              "  'room_type': 'private_room'},\n",
              " {'neighbourhood_group': 'brooklyn',\n",
              "  'number_of_reviews': 0,\n",
              "  'reviews_per_month': 0.0,\n",
              "  'room_type': 'private_room'},\n",
              " {'neighbourhood_group': 'manhattan',\n",
              "  'number_of_reviews': 1,\n",
              "  'reviews_per_month': 0.04,\n",
              "  'room_type': 'entire_home/apt'},\n",
              " {'neighbourhood_group': 'manhattan',\n",
              "  'number_of_reviews': 9,\n",
              "  'reviews_per_month': 0.82,\n",
              "  'room_type': 'entire_home/apt'},\n",
              " {'neighbourhood_group': 'manhattan',\n",
              "  'number_of_reviews': 1,\n",
              "  'reviews_per_month': 0.08,\n",
              "  'room_type': 'entire_home/apt'},\n",
              " {'neighbourhood_group': 'bronx',\n",
              "  'number_of_reviews': 15,\n",
              "  'reviews_per_month': 0.69,\n",
              "  'room_type': 'private_room'},\n",
              " {'neighbourhood_group': 'manhattan',\n",
              "  'number_of_reviews': 0,\n",
              "  'reviews_per_month': 0.0,\n",
              "  'room_type': 'entire_home/apt'}]"
            ]
          },
          "metadata": {},
          "execution_count": 52
        }
      ]
    },
    {
      "cell_type": "code",
      "metadata": {
        "id": "2rdebC2A6BGz"
      },
      "source": [
        "dicts_train_small = df_train[small].to_dict(orient='records')\n",
        "dicts_val_small = df_val[small].to_dict(orient='records')"
      ],
      "execution_count": null,
      "outputs": []
    },
    {
      "cell_type": "code",
      "metadata": {
        "colab": {
          "base_uri": "https://localhost:8080/"
        },
        "id": "CaPq1Pco6FxJ",
        "outputId": "1dc7652a-63f1-4955-d301-3bc684baba41"
      },
      "source": [
        "dv_small = DictVectorizer(sparse=False)\n",
        "dv_small.fit(dicts_train_small)"
      ],
      "execution_count": null,
      "outputs": [
        {
          "output_type": "execute_result",
          "data": {
            "text/plain": [
              "DictVectorizer(dtype=<class 'numpy.float64'>, separator='=', sort=True,\n",
              "               sparse=False)"
            ]
          },
          "metadata": {},
          "execution_count": 54
        }
      ]
    },
    {
      "cell_type": "code",
      "metadata": {
        "colab": {
          "base_uri": "https://localhost:8080/"
        },
        "id": "k1VNItnY6I_b",
        "outputId": "1d0d359a-4ce5-4d3e-8d6c-ca4739fe56af"
      },
      "source": [
        "dv_small.get_feature_names()"
      ],
      "execution_count": null,
      "outputs": [
        {
          "output_type": "execute_result",
          "data": {
            "text/plain": [
              "['neighbourhood_group=bronx',\n",
              " 'neighbourhood_group=brooklyn',\n",
              " 'neighbourhood_group=manhattan',\n",
              " 'neighbourhood_group=queens',\n",
              " 'neighbourhood_group=staten_island',\n",
              " 'number_of_reviews',\n",
              " 'reviews_per_month',\n",
              " 'room_type=entire_home/apt',\n",
              " 'room_type=private_room',\n",
              " 'room_type=shared_room']"
            ]
          },
          "metadata": {},
          "execution_count": 55
        }
      ]
    },
    {
      "cell_type": "code",
      "metadata": {
        "id": "UKcZ0zz46NF4"
      },
      "source": [
        "X_train_small = dv_small.transform(dicts_train_small)"
      ],
      "execution_count": null,
      "outputs": []
    },
    {
      "cell_type": "code",
      "metadata": {
        "colab": {
          "base_uri": "https://localhost:8080/"
        },
        "id": "2FpKM_w16Qc8",
        "outputId": "41aaaf4d-59d2-43b3-d5d1-47b0474b86bf"
      },
      "source": [
        "model_small = LogisticRegression(solver='lbfgs', C=1.0, random_state=42)\n",
        "model_small.fit(X_train_small, y_train_b)"
      ],
      "execution_count": null,
      "outputs": [
        {
          "output_type": "execute_result",
          "data": {
            "text/plain": [
              "LogisticRegression(C=1.0, class_weight=None, dual=False, fit_intercept=True,\n",
              "                   intercept_scaling=1, l1_ratio=None, max_iter=100,\n",
              "                   multi_class='auto', n_jobs=None, penalty='l2',\n",
              "                   random_state=42, solver='lbfgs', tol=0.0001, verbose=0,\n",
              "                   warm_start=False)"
            ]
          },
          "metadata": {},
          "execution_count": 63
        }
      ]
    },
    {
      "cell_type": "code",
      "metadata": {
        "colab": {
          "base_uri": "https://localhost:8080/"
        },
        "id": "V5-W3EoJ6UUO",
        "outputId": "f2aae062-532c-4cfa-8f7e-b67aa585192c"
      },
      "source": [
        "w0 = model_small.intercept_[0]\n",
        "w0"
      ],
      "execution_count": null,
      "outputs": [
        {
          "output_type": "execute_result",
          "data": {
            "text/plain": [
              "-1.570099903607492"
            ]
          },
          "metadata": {},
          "execution_count": 64
        }
      ]
    },
    {
      "cell_type": "code",
      "metadata": {
        "colab": {
          "base_uri": "https://localhost:8080/"
        },
        "id": "bU4vyFnd6cxD",
        "outputId": "8a68683e-40d5-40f9-b029-b7f72457e966"
      },
      "source": [
        "w = model_small.coef_[0]\n",
        "w.round(3)"
      ],
      "execution_count": null,
      "outputs": [
        {
          "output_type": "execute_result",
          "data": {
            "text/plain": [
              "array([-1.197, -0.096,  0.993, -0.629, -0.603, -0.002, -0.003,  1.334,\n",
              "       -1.438, -1.428])"
            ]
          },
          "metadata": {},
          "execution_count": 65
        }
      ]
    },
    {
      "cell_type": "code",
      "metadata": {
        "colab": {
          "base_uri": "https://localhost:8080/"
        },
        "id": "7x-k9W0M6nYC",
        "outputId": "a34e26ff-2a4b-4d94-f044-2caea5599cb1"
      },
      "source": [
        "dict(zip(dv_small.get_feature_names(), w.round(3)))"
      ],
      "execution_count": null,
      "outputs": [
        {
          "output_type": "execute_result",
          "data": {
            "text/plain": [
              "{'neighbourhood_group=bronx': -1.197,\n",
              " 'neighbourhood_group=brooklyn': -0.096,\n",
              " 'neighbourhood_group=manhattan': 0.993,\n",
              " 'neighbourhood_group=queens': -0.629,\n",
              " 'neighbourhood_group=staten_island': -0.603,\n",
              " 'number_of_reviews': -0.002,\n",
              " 'reviews_per_month': -0.003,\n",
              " 'room_type=entire_home/apt': 1.334,\n",
              " 'room_type=private_room': -1.438,\n",
              " 'room_type=shared_room': -1.428}"
            ]
          },
          "metadata": {},
          "execution_count": 66
        }
      ]
    },
    {
      "cell_type": "markdown",
      "metadata": {
        "id": "2KL6IIuP7hHf"
      },
      "source": [
        "Accuracy is the proportion of correct predictions over total predictions"
      ]
    },
    {
      "cell_type": "code",
      "metadata": {
        "id": "si1qhw0D8nWc"
      },
      "source": [
        "X_val_small = dv_small.transform(dicts_val_small)"
      ],
      "execution_count": null,
      "outputs": []
    },
    {
      "cell_type": "code",
      "metadata": {
        "colab": {
          "base_uri": "https://localhost:8080/"
        },
        "id": "48uj_8xQ7hHf",
        "outputId": "70cb97b5-5418-40d6-ce68-8a94e83b6039"
      },
      "source": [
        "model_small.score(X_val_small, y_test_b)"
      ],
      "execution_count": null,
      "outputs": [
        {
          "output_type": "execute_result",
          "data": {
            "text/plain": [
              "0.5876879026485325"
            ]
          },
          "metadata": {},
          "execution_count": 68
        }
      ]
    }
  ]
}